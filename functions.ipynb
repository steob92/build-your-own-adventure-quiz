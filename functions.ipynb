{
 "cells": [
  {
   "cell_type": "markdown",
   "metadata": {},
   "source": [
    "# Functions in Python\n",
    "\n",
    "In this section we'll introduce the concept of function programming in Python. Functional programming allows us to reuse block of code with needing to copy and pasting code multiple times."
   ]
  },
  {
   "cell_type": "markdown",
   "metadata": {},
   "source": [
    "## Why repatition is bad\n",
    "\n",
    "Examples to show:\n",
    "- Running blocks of code out of order\n",
    "- Changing variables in one place and not the other"
   ]
  },
  {
   "cell_type": "markdown",
   "metadata": {},
   "source": [
    "## How do we write a function\n",
    "\n",
    "Examples to show:\n",
    "- Basic function\n",
    "\n",
    "In Python we define functions as follows:\n",
    "```python\n",
    "def hello_world():\n",
    "    print(\"Hello, world\")\n",
    "```\n",
    "\n",
    "Here we specify that we are defining a function with the `def` keyword. We then provide a name of the function (in this case `hello_world`). This will be how was access of <i>call</i>"
   ]
  },
  {
   "cell_type": "markdown",
   "metadata": {},
   "source": []
  }
 ],
 "metadata": {
  "language_info": {
   "name": "python"
  }
 },
 "nbformat": 4,
 "nbformat_minor": 2
}
